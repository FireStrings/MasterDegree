{
  "nbformat": 4,
  "nbformat_minor": 0,
  "metadata": {
    "colab": {
      "provenance": [],
      "authorship_tag": "ABX9TyM93K/Qzsvurm95fl6wOADl",
      "include_colab_link": true
    },
    "kernelspec": {
      "name": "python3",
      "display_name": "Python 3"
    },
    "language_info": {
      "name": "python"
    }
  },
  "cells": [
    {
      "cell_type": "markdown",
      "metadata": {
        "id": "view-in-github",
        "colab_type": "text"
      },
      "source": [
        "<a href=\"https://colab.research.google.com/github/FireStrings/MasterDegree/blob/main/CNN_LSTM/CNN_LSTM.ipynb\" target=\"_parent\"><img src=\"https://colab.research.google.com/assets/colab-badge.svg\" alt=\"Open In Colab\"/></a>"
      ]
    },
    {
      "cell_type": "code",
      "execution_count": null,
      "metadata": {
        "colab": {
          "base_uri": "https://localhost:8080/"
        },
        "id": "2rpfDBsMoP7b",
        "outputId": "78984aae-5177-44da-ab89-79f0762782b1"
      },
      "outputs": [
        {
          "output_type": "stream",
          "name": "stdout",
          "text": [
            "Mounted at /content/drive/\n"
          ]
        }
      ],
      "source": [
        "from google.colab import drive\n",
        "drive.mount('/content/drive/', force_remount=True)\n",
        "\n",
        "import os\n",
        "os.chdir(\"/content/drive/My Drive/UFSCAR/Notebooks/LSTM\")"
      ]
    },
    {
      "cell_type": "markdown",
      "source": [
        "###Imports"
      ],
      "metadata": {
        "id": "Ebh-QbnMpGLy"
      }
    },
    {
      "cell_type": "code",
      "source": [
        "%run LSTM.ipynb"
      ],
      "metadata": {
        "colab": {
          "base_uri": "https://localhost:8080/"
        },
        "id": "qomz3vGapSN2",
        "outputId": "157d74c5-44f0-4edd-ed4b-4a0aa9a014f4"
      },
      "execution_count": null,
      "outputs": [
        {
          "output_type": "stream",
          "name": "stdout",
          "text": [
            "Mounted at /content/drive/\n"
          ]
        }
      ]
    },
    {
      "cell_type": "code",
      "source": [
        "from tensorflow.keras.layers import Conv1D, Conv2D, Flatten, GlobalAveragePooling1D, Concatenate, MaxPooling1D, MaxPooling2D\n",
        "from tensorflow.keras.models import Model, Sequential"
      ],
      "metadata": {
        "id": "dOc4UgMnoqVm"
      },
      "execution_count": null,
      "outputs": []
    },
    {
      "cell_type": "markdown",
      "source": [
        "###Functions"
      ],
      "metadata": {
        "id": "3BOE5DJHpHvY"
      }
    },
    {
      "cell_type": "code",
      "source": [
        "def create_cnn_model(janela_tempo, n_features):\n",
        "    input_clima = Input(shape=(janela_tempo, n_features), name=\"input_clima\")\n",
        "\n",
        "    x_cnn = Conv1D(filters=64, kernel_size=3, activation='relu', name=\"cnn_layer_1\")(input_clima)\n",
        "    x_cnn = BatchNormalization(name=\"batch_norm_layer_1\")(x_cnn)\n",
        "    x_cnn = Conv1D(filters=32, kernel_size=3, activation='relu', name=\"cnn_layer_2\")(x_cnn)\n",
        "    x_cnn = MaxPooling1D(name=\"max_pool_layer_1\")(x_cnn)\n",
        "    x_cnn = Flatten()(x_cnn)\n",
        "    x_cnn = Dense(32, activation='relu')(x_cnn)\n",
        "    x_cnn = BatchNormalization()(x_cnn)\n",
        "\n",
        "    return x_cnn, input_clima\n",
        "\n",
        "def create_cnn_lstm_model(janela_tempo, n_features, with_compiled, with_bilstm):\n",
        "\n",
        "    x_cnn, input_clima = create_cnn_model(janela_tempo, n_features)\n",
        "    x_lstm, input_rad = create_lstm_model(janela_tempo, \"input_radiacao\", with_compiled, with_bilstm)\n",
        "\n",
        "    x = Concatenate()([x_cnn, x_lstm])\n",
        "    x = Dense(128, activation='relu')(x)\n",
        "    x = BatchNormalization()(x)\n",
        "    x = Dense(64, activation='relu')(x)\n",
        "    x = BatchNormalization()(x)\n",
        "    x = Dense(32, activation='relu')(x)\n",
        "    output = Dense(1, name=\"saida\", activation='linear')(x)\n",
        "\n",
        "    model = Model(inputs=[input_clima, input_rad], outputs=output)\n",
        "    model.compile(optimizer='adam', loss='mse')\n",
        "\n",
        "    return model\n",
        "\n",
        "\n",
        "def training_model(modelo, Xc_train, Xr_train, y_train, Xc_val, Xr_val, y_val):\n",
        "    modelo.fit(\n",
        "        x={\"input_clima\": Xc_train, \"input_radiacao\": Xr_train},\n",
        "        y=y_train,\n",
        "        validation_data=(\n",
        "            {\"input_clima\": Xc_val, \"input_radiacao\": Xr_val},\n",
        "            y_val\n",
        "        ),\n",
        "        epochs=100,\n",
        "        batch_size=32,\n",
        "        verbose=0,\n",
        "        # shuffle=False\n",
        "    )\n",
        "\n",
        "def process_cnn_lstm(times, station, anual_df, results, with_plot, with_bilstm):\n",
        "    nn_type = \"BiLSTM\" if with_bilstm else \"LSTM\"\n",
        "    for i in range(times):\n",
        "        print(\"Starting process \" + str(i) + \" for station \" + station + \" with \" + nn_type + \" type\")\n",
        "        results[station][i] = {\"train_pred\":None, \"test_pred\": None, \"period\": None, \"metrics\":None}\n",
        "\n",
        "        # list_cols = [\"pto_orvalho_min_c\", \"umi_min_perc\", \"pressao_min_hpa\", \"radiacao\"]\n",
        "        list_cols = [\"temp_ins_c\", \"pressao_max_hpa\", \"vel_vento_ms\", \"radiacao\"] #new cols\n",
        "\n",
        "        df_norm = select_and_normalize_divided(anual_df, list_cols)\n",
        "\n",
        "        # df_inupt = df_norm\n",
        "        df_inupt = df_norm[[\"temp_ins_c\", \"pressao_max_hpa\", \"vel_vento_ms\"]] #TESTE\n",
        "        df_target = df_norm[[\"radiacao\"]]\n",
        "\n",
        "        X_clima, X_rad, y = data_to_input_and_output_cnn_lstm(df_inupt, df_target, janela=janela_tempo, horizonte=1)\n",
        "        Xc_train, Xc_val, Xr_train, Xr_val, y_train, y_val = train_test_split(X_clima, X_rad, y, test_size=0.3, random_state=42, shuffle=False)\n",
        "\n",
        "        model = create_cnn_lstm_model(janela_tempo, df_inupt.shape[1], False, with_bilstm)\n",
        "        training_model(model, Xc_train, Xr_train, y_train, Xc_val, Xr_val, y_val)\n",
        "\n",
        "        train_pred = model.predict(x={\"input_clima\": Xc_train, \"input_radiacao\": Xr_train}, verbose=0)\n",
        "        test_pred = model.predict(x={\"input_clima\": Xc_val, \"input_radiacao\": Xr_val}, verbose=0)\n",
        "\n",
        "        if with_plot:\n",
        "            period = anual_df[train_pred.shape[0]:]['data'].iloc[:test_pred.shape[0]]\n",
        "            plot_results_2(test_pred.reshape(test_pred.shape[0]), y_val, period)\n",
        "\n",
        "        results[station][i][\"train_pred\"] = train_pred\n",
        "        results[station][i][\"test_pred\"] = test_pred\n",
        "        results[station][i][\"metrics\"] = get_metrics(test_pred, y_val)\n"
      ],
      "metadata": {
        "id": "MT5EqJ-rorxL"
      },
      "execution_count": null,
      "outputs": []
    }
  ]
}