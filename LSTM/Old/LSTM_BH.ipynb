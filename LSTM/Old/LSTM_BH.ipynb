{
  "cells": [
    {
      "cell_type": "markdown",
      "metadata": {
        "id": "view-in-github",
        "colab_type": "text"
      },
      "source": [
        "<a href=\"https://colab.research.google.com/github/FireStrings/MasterDegree/blob/main/LSTM/Old/LSTM_BH.ipynb\" target=\"_parent\"><img src=\"https://colab.research.google.com/assets/colab-badge.svg\" alt=\"Open In Colab\"/></a>"
      ]
    },
    {
      "cell_type": "markdown",
      "id": "1d368824-eae0-4175-88d6-6a5619ee0ba0",
      "metadata": {
        "id": "1d368824-eae0-4175-88d6-6a5619ee0ba0"
      },
      "source": [
        "### TODO\n",
        "- Mutiplicar os valores por 1000 no resultado.\n",
        "- (FICOU UMA BOSTA) agrupar o plot do sarima para deixar a visualização mais adequada\n",
        "- Coletar resultados do sarima e do LSTM\n",
        "- Executar o BiLSTM e ver o resultado, e coletar tambem (colocar em uma planilha)\n",
        "- Carregar o modelo LSTM e BiLSTM e testar em outras estações"
      ]
    },
    {
      "cell_type": "markdown",
      "id": "d86d9e02-d204-4d52-b6ef-7b95028f4d8a",
      "metadata": {
        "id": "d86d9e02-d204-4d52-b6ef-7b95028f4d8a"
      },
      "source": [
        "### Imports"
      ]
    },
    {
      "cell_type": "code",
      "execution_count": null,
      "id": "ba5a51c9-077c-4b3a-b011-8d9168d143f7",
      "metadata": {
        "id": "ba5a51c9-077c-4b3a-b011-8d9168d143f7"
      },
      "outputs": [],
      "source": [
        "import numpy as np\n",
        "import pandas as pd\n",
        "import matplotlib.pyplot as plt\n",
        "from matplotlib.dates import MonthLocator, DateFormatter, YearLocator\n",
        "from tensorflow.keras.models import Sequential\n",
        "from tensorflow.keras.losses import MeanSquaredError, MeanAbsoluteError\n",
        "from tensorflow.keras.metrics import RootMeanSquaredError, R2Score\n",
        "from sklearn.metrics import mean_squared_error, mean_absolute_error, r2_score\n",
        "from tensorflow.keras.layers import Dense, InputLayer, LSTM, Dropout, Conv1D, Bidirectional\n",
        "from tensorflow.keras.callbacks import ModelCheckpoint\n",
        "from tensorflow.keras.optimizers import Adam\n",
        "from tensorflow.keras.models import load_model\n",
        "from sklearn.model_selection import train_test_split\n",
        "from sklearn.preprocessing import MinMaxScaler, normalize, StandardScaler\n",
        "from sklearn.metrics import r2_score, mean_squared_error\n",
        "import seaborn as sns\n",
        "import tensorflow as tf\n",
        "import math"
      ]
    },
    {
      "cell_type": "code",
      "execution_count": null,
      "id": "79b4ef67-d022-47a0-8ed3-acbef2339542",
      "metadata": {
        "id": "79b4ef67-d022-47a0-8ed3-acbef2339542"
      },
      "outputs": [],
      "source": [
        "%run ../UtilsNew.ipynb"
      ]
    },
    {
      "cell_type": "markdown",
      "id": "cd2e9bfd-ae63-4d89-a550-d01f2ddacb9d",
      "metadata": {
        "id": "cd2e9bfd-ae63-4d89-a550-d01f2ddacb9d"
      },
      "source": [
        "### Load and filter data"
      ]
    },
    {
      "cell_type": "code",
      "execution_count": null,
      "id": "5f986f66-6cb7-4de8-8b1b-0e11c6c199c6",
      "metadata": {
        "id": "5f986f66-6cb7-4de8-8b1b-0e11c6c199c6"
      },
      "outputs": [],
      "source": [
        "raw_anual_df1 = pd.read_csv(\"../data/minas_gerais_bh.csv\", sep=\";\")\n",
        "raw_anual_df2 = pd.read_csv(\"../data/minas_gerais_bh2.csv\", sep=\";\")\n",
        "\n",
        "raw_anual_df = pd.concat([raw_anual_df1, raw_anual_df2], axis=0)\n",
        "\n",
        "anual_df = pre_processing(raw_anual_df)\n",
        "\n",
        "anual_df[\"hora\"] = anual_df[\"data_hora\"].dt.hour\n",
        "anual_df = filter_between(anual_df, \"hora\", 7, 18)"
      ]
    },
    {
      "cell_type": "markdown",
      "id": "cf8380e6-2089-4b3c-9f26-9a2f6684618d",
      "metadata": {
        "id": "cf8380e6-2089-4b3c-9f26-9a2f6684618d"
      },
      "source": [
        "### Data segmentation"
      ]
    },
    {
      "cell_type": "code",
      "execution_count": null,
      "id": "7b980bed-7f6c-4c25-bc62-be714d30653f",
      "metadata": {
        "id": "7b980bed-7f6c-4c25-bc62-be714d30653f"
      },
      "outputs": [],
      "source": [
        "train_size = int(0.7 * (round(len(anual_df)/10)*10))\n",
        "\n",
        "train_df = anual_df.iloc[0:train_size]\n",
        "test_df = anual_df.iloc[train_size:]\n",
        "\n",
        "janela_tempo = 11"
      ]
    },
    {
      "cell_type": "markdown",
      "id": "cc234d10-93a0-4cbc-801d-68ef47b5516d",
      "metadata": {
        "id": "cc234d10-93a0-4cbc-801d-68ef47b5516d"
      },
      "source": [
        "### Funções"
      ]
    },
    {
      "cell_type": "code",
      "execution_count": null,
      "id": "53cd1479-5bc2-41f8-b9df-c4eb5a4f5f1a",
      "metadata": {
        "id": "53cd1479-5bc2-41f8-b9df-c4eb5a4f5f1a"
      },
      "outputs": [],
      "source": [
        "def normalize_leo(X):\n",
        "    scaler = MinMaxScaler()\n",
        "    return scaler.fit_transform(X)\n",
        "\n",
        "def teste(values):\n",
        "    scaler = StandardScaler()\n",
        "    scaler = scaler.fit(values)\n",
        "    # print('Mean: %f, StandardDeviation: %f' % (scaler.mean_, math.sqrt(scaler.var_)))\n",
        "    # normalize the dataset and print\n",
        "    standardized = scaler.transform(values)\n",
        "\n",
        "    return standardized\n",
        "\n",
        "def create_model(janela_tempo, with_bilstm):\n",
        "\n",
        "    model = Sequential()\n",
        "    model.add(InputLayer(input_shape=(janela_tempo, 1)))\n",
        "\n",
        "    if with_bilstm:\n",
        "        model.add(Bidirectional(LSTM(64, return_sequences=True)))\n",
        "        model.add(Bidirectional(LSTM(32)))\n",
        "    else:\n",
        "        model.add(LSTM(64, return_sequences=True))  # Mantém a saída sequencial\n",
        "        model.add(LSTM(32))\n",
        "\n",
        "    model.add(Dense(32, activation='relu'))\n",
        "    model.add(Dense(1, activation='linear'))\n",
        "\n",
        "    model.compile(optimizer='adam', loss='mse')\n",
        "\n",
        "    return model\n",
        "\n",
        "def train_model(model, X, y, epochs=100):\n",
        "    model.fit(X, y, epochs=epochs, batch_size=32, verbose=0)\n",
        "\n",
        "    return model\n",
        "\n",
        "def plot_results(df_orig, pred, real):\n",
        "    set_plot_size(12, 6)\n",
        "\n",
        "    period = df_orig[0:len(df_orig) - janela_tempo]['data']\n",
        "    pred = pred.reshape(pred.shape[0])\n",
        "\n",
        "    df_pred = pd.DataFrame(data=pred, index=period, columns=[\"predicted\"])\n",
        "    df_real = pd.DataFrame(data=real, index=period, columns=[\"real\"])\n",
        "\n",
        "    sns.lineplot(df_pred, palette=[\"red\"], ci=None)\n",
        "    sns.lineplot(df_real, palette=[\"blue\"], ci=None)\n",
        "\n",
        "\n",
        "def get_metrics(test_pred, y_val):\n",
        "    mse = mean_squared_error(test_pred.reshape(test_pred.shape[0]), y_val)\n",
        "    rmse = math.sqrt(mse)\n",
        "    mae = mean_absolute_error(test_pred.reshape(test_pred.shape[0]), y_val)\n",
        "    r2 = r2_score(test_pred.reshape(test_pred.shape[0]), y_val)\n",
        "\n",
        "    return {\"mse\": mse, \"rmse\": rmse, \"mae\": mae, \"r2\": r2}\n",
        "\n",
        "def data_to_input_and_output(data):\n",
        "    input_data = []\n",
        "    output_data = []\n",
        "    for index in range(0, len(data) - janela_tempo):\n",
        "        input_sample = data['radiacao'][index:index + janela_tempo]\n",
        "        output_sample = data['radiacao'][index + janela_tempo]\n",
        "\n",
        "        input_data.append(input_sample)\n",
        "        output_data.append(output_sample)\n",
        "\n",
        "    return np.array(input_data)/1000, np.array(output_data)/1000\n",
        "    # return teste(np.array(input_data)), teste([np.array(output_data)])\n",
        "\n",
        "def process(times, results, with_bilstm, with_plot):\n",
        "    for i in range(times):\n",
        "        print(\"Starting test \" + str(i))\n",
        "        results[i] = {\"train_pred\":None, \"test_pred\": None, \"period\": None, \"metrics\":None}\n",
        "\n",
        "        model = create_model(janela_tempo, with_bilstm)\n",
        "        train_model(model, train_input, train_output)\n",
        "\n",
        "        train_pred = model.predict(train_input, verbose=0)\n",
        "        test_pred = model.predict(test_input, verbose=0)\n",
        "\n",
        "        if with_plot:\n",
        "            period = anual_df[train_pred.shape[0]:]['data'].iloc[:test_pred.shape[0]]\n",
        "            plot_results(test_pred.reshape(test_pred.shape[0]), test_output, period)\n",
        "\n",
        "        results[i][\"train_pred\"] = train_pred\n",
        "        results[i][\"test_pred\"] = test_pred\n",
        "        results[i][\"metrics\"] = get_metrics(test_pred, test_output)"
      ]
    },
    {
      "cell_type": "code",
      "execution_count": null,
      "id": "9bc885d7-5713-47ed-b93c-866d523d6bed",
      "metadata": {
        "id": "9bc885d7-5713-47ed-b93c-866d523d6bed"
      },
      "outputs": [],
      "source": [
        "train_input, train_output = data_to_input_and_output(train_df)\n",
        "test_input, test_output = data_to_input_and_output(test_df)"
      ]
    },
    {
      "cell_type": "markdown",
      "id": "16002389-7cd2-44c2-a928-cf717e829b14",
      "metadata": {
        "id": "16002389-7cd2-44c2-a928-cf717e829b14"
      },
      "source": [
        "## LSTM"
      ]
    },
    {
      "cell_type": "code",
      "execution_count": null,
      "id": "6cc982ae-395b-4d52-ab61-95b0b7a35c5c",
      "metadata": {
        "id": "6cc982ae-395b-4d52-ab61-95b0b7a35c5c",
        "outputId": "7b874c07-f099-4f3f-9d38-891480718632"
      },
      "outputs": [
        {
          "name": "stdout",
          "output_type": "stream",
          "text": [
            "Starting test 0\n",
            "192/192 [==============================] - 2s 5ms/step\n",
            "82/82 [==============================] - 1s 6ms/step\n",
            "Starting test 1\n",
            "192/192 [==============================] - 2s 6ms/step\n",
            "82/82 [==============================] - 1s 6ms/step\n",
            "Starting test 2\n",
            "192/192 [==============================] - 2s 5ms/step\n",
            "82/82 [==============================] - 0s 5ms/step\n",
            "Starting test 3\n",
            "192/192 [==============================] - 2s 6ms/step\n",
            "82/82 [==============================] - 0s 6ms/step\n",
            "Starting test 4\n",
            "192/192 [==============================] - 2s 5ms/step\n",
            "82/82 [==============================] - 0s 6ms/step\n",
            "Starting test 5\n",
            "192/192 [==============================] - 2s 5ms/step\n",
            "82/82 [==============================] - 0s 5ms/step\n",
            "Starting test 6\n",
            "192/192 [==============================] - 2s 5ms/step\n",
            "82/82 [==============================] - 0s 6ms/step\n",
            "Starting test 7\n",
            "192/192 [==============================] - 2s 5ms/step\n",
            "82/82 [==============================] - 0s 5ms/step\n",
            "Starting test 8\n",
            "192/192 [==============================] - 2s 5ms/step\n",
            "82/82 [==============================] - 0s 5ms/step\n",
            "Starting test 9\n",
            "192/192 [==============================] - 2s 5ms/step\n",
            "82/82 [==============================] - 0s 5ms/step\n",
            "Starting test 10\n",
            "192/192 [==============================] - 2s 5ms/step\n",
            "82/82 [==============================] - 0s 5ms/step\n",
            "Starting test 11\n",
            "192/192 [==============================] - 2s 5ms/step\n",
            "82/82 [==============================] - 0s 6ms/step\n",
            "Starting test 12\n",
            "192/192 [==============================] - 2s 5ms/step\n",
            "82/82 [==============================] - 0s 6ms/step\n",
            "Starting test 13\n",
            "192/192 [==============================] - 2s 6ms/step\n",
            "82/82 [==============================] - 1s 6ms/step\n",
            "Starting test 14\n",
            "192/192 [==============================] - 2s 5ms/step\n",
            "82/82 [==============================] - 0s 5ms/step\n"
          ]
        }
      ],
      "source": [
        "results_lstm = {}\n",
        "process(15, results_lstm, False, False)"
      ]
    },
    {
      "cell_type": "code",
      "execution_count": null,
      "id": "9f920409-5a71-4095-a3fa-8fbc9d47b945",
      "metadata": {
        "id": "9f920409-5a71-4095-a3fa-8fbc9d47b945",
        "outputId": "ec49be4a-2073-41a8-a73f-552acabd1015"
      },
      "outputs": [
        {
          "name": "stdout",
          "output_type": "stream",
          "text": [
            "mse 0.14736095367026295\n",
            "rmse 0.3838476365443627\n",
            "mae 0.2573913759377284\n",
            "r2 0.8506812632071286\n"
          ]
        }
      ],
      "source": [
        "for i in [\"mse\", \"rmse\", \"mae\", \"r2\"]:\n",
        "    print(i, np.mean([results_lstm[x][\"metrics\"][i] for x in results_lstm]))"
      ]
    },
    {
      "cell_type": "code",
      "execution_count": null,
      "id": "8313c2c8-89eb-47b0-91cc-632eea7f6401",
      "metadata": {
        "id": "8313c2c8-89eb-47b0-91cc-632eea7f6401"
      },
      "outputs": [],
      "source": []
    }
  ],
  "metadata": {
    "kernelspec": {
      "display_name": "Python 3 (ipykernel)",
      "language": "python",
      "name": "python3"
    },
    "language_info": {
      "codemirror_mode": {
        "name": "ipython",
        "version": 3
      },
      "file_extension": ".py",
      "mimetype": "text/x-python",
      "name": "python",
      "nbconvert_exporter": "python",
      "pygments_lexer": "ipython3",
      "version": "3.8.10"
    },
    "colab": {
      "provenance": [],
      "include_colab_link": true
    }
  },
  "nbformat": 4,
  "nbformat_minor": 5
}