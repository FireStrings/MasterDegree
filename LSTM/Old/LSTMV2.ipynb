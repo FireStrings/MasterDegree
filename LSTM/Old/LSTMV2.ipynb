{
  "cells": [
    {
      "cell_type": "markdown",
      "metadata": {
        "id": "view-in-github",
        "colab_type": "text"
      },
      "source": [
        "<a href=\"https://colab.research.google.com/github/FireStrings/MasterDegree/blob/main/LSTM/Old/LSTMV2.ipynb\" target=\"_parent\"><img src=\"https://colab.research.google.com/assets/colab-badge.svg\" alt=\"Open In Colab\"/></a>"
      ]
    },
    {
      "cell_type": "code",
      "source": [
        "from google.colab import drive\n",
        "drive.mount('/content/drive/', force_remount=True)\n",
        "\n",
        "import os\n",
        "os.chdir(\"/content/drive/My Drive/UFSCAR/Notebooks\")"
      ],
      "metadata": {
        "colab": {
          "base_uri": "https://localhost:8080/"
        },
        "id": "91ash31VV6yY",
        "outputId": "970383c1-482d-425b-c7cc-f4d8216f23fb"
      },
      "id": "91ash31VV6yY",
      "execution_count": null,
      "outputs": [
        {
          "output_type": "stream",
          "name": "stdout",
          "text": [
            "Mounted at /content/drive/\n"
          ]
        }
      ]
    },
    {
      "cell_type": "markdown",
      "id": "d86d9e02-d204-4d52-b6ef-7b95028f4d8a",
      "metadata": {
        "id": "d86d9e02-d204-4d52-b6ef-7b95028f4d8a"
      },
      "source": [
        "### Imports"
      ]
    },
    {
      "cell_type": "code",
      "source": [
        "%run UtilsNew.ipynb"
      ],
      "metadata": {
        "id": "slVi6zKjOsfV"
      },
      "id": "slVi6zKjOsfV",
      "execution_count": null,
      "outputs": []
    },
    {
      "cell_type": "code",
      "execution_count": null,
      "id": "ba5a51c9-077c-4b3a-b011-8d9168d143f7",
      "metadata": {
        "id": "ba5a51c9-077c-4b3a-b011-8d9168d143f7"
      },
      "outputs": [],
      "source": [
        "from tensorflow.keras.models import Model, Sequential\n",
        "from tensorflow.keras.losses import MeanSquaredError, MeanAbsoluteError\n",
        "from tensorflow.keras.metrics import RootMeanSquaredError, R2Score\n",
        "from sklearn.metrics import mean_squared_error, mean_absolute_error, r2_score\n",
        "from tensorflow.keras.layers import BatchNormalization, Input, Dense, InputLayer, LSTM, Bidirectional\n",
        "from tensorflow.keras.callbacks import ModelCheckpoint\n",
        "from tensorflow.keras.optimizers import Adam\n",
        "from tensorflow.keras.models import load_model\n",
        "from sklearn.model_selection import train_test_split\n",
        "from sklearn.preprocessing import MinMaxScaler, normalize, StandardScaler\n",
        "from sklearn.metrics import r2_score, mean_squared_error"
      ]
    },
    {
      "cell_type": "markdown",
      "id": "cc234d10-93a0-4cbc-801d-68ef47b5516d",
      "metadata": {
        "id": "cc234d10-93a0-4cbc-801d-68ef47b5516d"
      },
      "source": [
        "### Funções"
      ]
    },
    {
      "cell_type": "code",
      "execution_count": null,
      "id": "53cd1479-5bc2-41f8-b9df-c4eb5a4f5f1a",
      "metadata": {
        "id": "53cd1479-5bc2-41f8-b9df-c4eb5a4f5f1a"
      },
      "outputs": [],
      "source": [
        "def create_lstm_model(janela_tempo, input_name, with_compiled, with_bilstm):\n",
        "\n",
        "    input_rad = Input(shape=(janela_tempo, 1), name=\"input_radiacao\")\n",
        "    if with_bilstm:\n",
        "        x_lstm = Bidirectional(LSTM(64, return_sequences=True))(input_rad)\n",
        "        x_lstm = Bidirectional(LSTM(32))(x_lstm)\n",
        "    else:\n",
        "        x_lstm = LSTM(64, return_sequences=True)(input_rad)\n",
        "        x_lstm = LSTM(32)(x_lstm)\n",
        "\n",
        "    if with_compiled:\n",
        "        x_lstm = Dense(1, name=\"saida\", activation='linear')(x_lstm)\n",
        "        output = BatchNormalization()(x_lstm)\n",
        "\n",
        "        model = Model(inputs=[input_rad], outputs=output)\n",
        "        model.compile(optimizer='adam', loss='mse')\n",
        "\n",
        "    else:\n",
        "        model = x_lstm\n",
        "\n",
        "    return model, input_rad\n",
        "\n",
        "\n",
        "def create_lstm_model_old(janela_tempo, input_name, with_bilstm):\n",
        "\n",
        "    model = Sequential()\n",
        "    _input = InputLayer(input_shape=(janela_tempo, 1), name=input_name)\n",
        "    model.add(_input)\n",
        "\n",
        "    if with_bilstm:\n",
        "        model.add(Bidirectional(LSTM(64, return_sequences=True)))\n",
        "        model.add(Bidirectional(LSTM(32)))\n",
        "    else:\n",
        "        model.add(LSTM(64, return_sequences=True))\n",
        "        model.add(LSTM(32))\n",
        "\n",
        "    model.add(Dense(32, activation='relu'))\n",
        "    model.add(Dense(1, activation='linear'))\n",
        "\n",
        "    model.compile(optimizer='adam', loss='mse')\n",
        "\n",
        "    return model, _input\n",
        "\n",
        "def train_model(model, X, y, epochs=100):\n",
        "    model.fit(X, y, epochs=epochs, batch_size=32, verbose=0)\n",
        "\n",
        "    return model\n",
        "\n",
        "def process_lstm(times, station, train_df, test_df, results, with_compiled, with_bilstm, with_plot):\n",
        "    nn_type = \"BiLSTM\" if with_bilstm else \"LSTM\"\n",
        "    train_input, train_output = data_to_input_and_output_lstm(train_df)\n",
        "    test_input, test_output = data_to_input_and_output_lstm(test_df)\n",
        "\n",
        "    for i in range(times):\n",
        "        print(\"Starting process \" + str(i) + \" for station \" + station + \" with \" + nn_type + \" type\")\n",
        "        results[station][i] = {\"train_pred\":None, \"test_pred\": None, \"period\": None, \"metrics\":None}\n",
        "\n",
        "        model, _ = create_lstm_model(janela_tempo, \"input_radiacao\", with_compiled, with_bilstm)\n",
        "        train_model(model, train_input, train_output)\n",
        "\n",
        "        train_pred = model.predict(train_input, verbose=0)\n",
        "        test_pred = model.predict(test_input, verbose=0)\n",
        "\n",
        "        if with_plot:\n",
        "            period = anual_df[train_pred.shape[0]:]['data'].iloc[:test_pred.shape[0]]\n",
        "            plot_results(test_pred.reshape(test_pred.shape[0]), test_output, period)\n",
        "\n",
        "        results[station][i][\"train_pred\"] = train_pred\n",
        "        results[station][i][\"test_pred\"] = test_pred\n",
        "        results[station][i][\"metrics\"] = get_metrics(test_pred, test_output)"
      ]
    },
    {
      "cell_type": "code",
      "execution_count": null,
      "id": "6c0874db-0e8f-4420-bedd-ef79e9e174d2",
      "metadata": {
        "id": "6c0874db-0e8f-4420-bedd-ef79e9e174d2"
      },
      "outputs": [],
      "source": []
    }
  ],
  "metadata": {
    "kernelspec": {
      "display_name": "Python 3 (ipykernel)",
      "language": "python",
      "name": "python3"
    },
    "language_info": {
      "codemirror_mode": {
        "name": "ipython",
        "version": 3
      },
      "file_extension": ".py",
      "mimetype": "text/x-python",
      "name": "python",
      "nbconvert_exporter": "python",
      "pygments_lexer": "ipython3",
      "version": "3.8.10"
    },
    "colab": {
      "provenance": [],
      "include_colab_link": true
    }
  },
  "nbformat": 4,
  "nbformat_minor": 5
}