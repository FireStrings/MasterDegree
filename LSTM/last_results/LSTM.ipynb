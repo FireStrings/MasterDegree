{
  "nbformat": 4,
  "nbformat_minor": 0,
  "metadata": {
    "colab": {
      "provenance": [],
      "authorship_tag": "ABX9TyOGjeMmHyQZJDL+mQuJYx2C",
      "include_colab_link": true
    },
    "kernelspec": {
      "name": "python3",
      "display_name": "Python 3"
    },
    "language_info": {
      "name": "python"
    }
  },
  "cells": [
    {
      "cell_type": "markdown",
      "metadata": {
        "id": "view-in-github",
        "colab_type": "text"
      },
      "source": [
        "<a href=\"https://colab.research.google.com/github/FireStrings/MasterDegree/blob/main/LSTM/last_results/LSTM.ipynb\" target=\"_parent\"><img src=\"https://colab.research.google.com/assets/colab-badge.svg\" alt=\"Open In Colab\"/></a>"
      ]
    },
    {
      "cell_type": "code",
      "execution_count": null,
      "metadata": {
        "id": "Gz_g-Y9spywk",
        "colab": {
          "base_uri": "https://localhost:8080/"
        },
        "outputId": "6cdd198d-23f7-4a68-cc10-dc71d13888a3"
      },
      "outputs": [
        {
          "output_type": "stream",
          "name": "stdout",
          "text": [
            "Mounted at /content/drive/\n"
          ]
        }
      ],
      "source": [
        "from google.colab import drive\n",
        "drive.mount('/content/drive/', force_remount=True)\n",
        "\n",
        "import os\n",
        "os.chdir(\"/content/drive/My Drive/UFSCAR/Notebooks\")"
      ]
    },
    {
      "cell_type": "markdown",
      "source": [
        "### Imports"
      ],
      "metadata": {
        "id": "QxvFr_Bmp_i2"
      }
    },
    {
      "cell_type": "code",
      "source": [
        "%run UtilsNew.ipynb"
      ],
      "metadata": {
        "id": "rmtQYBIIp9iJ"
      },
      "execution_count": null,
      "outputs": []
    },
    {
      "cell_type": "code",
      "source": [
        "from tensorflow.keras.models import Model, Sequential\n",
        "from tensorflow.keras.losses import MeanSquaredError, MeanAbsoluteError\n",
        "from tensorflow.keras.metrics import RootMeanSquaredError, R2Score\n",
        "from sklearn.metrics import mean_squared_error, mean_absolute_error, r2_score\n",
        "from tensorflow.keras.layers import BatchNormalization, Input, Dense, InputLayer, LSTM, Bidirectional\n",
        "from tensorflow.keras.callbacks import ModelCheckpoint\n",
        "from tensorflow.keras.optimizers import Adam\n",
        "from tensorflow.keras.models import load_model\n",
        "from sklearn.model_selection import train_test_split\n",
        "from sklearn.preprocessing import MinMaxScaler, normalize, StandardScaler\n",
        "from sklearn.metrics import r2_score, mean_squared_error"
      ],
      "metadata": {
        "id": "i-E1MlHVqBck"
      },
      "execution_count": null,
      "outputs": []
    },
    {
      "cell_type": "markdown",
      "source": [
        "###Functions"
      ],
      "metadata": {
        "id": "WvOEh9PAqD61"
      }
    },
    {
      "cell_type": "code",
      "source": [
        "def create_lstm_model(janela_tempo, input_name, with_compiled, with_bilstm):\n",
        "\n",
        "    input_rad = Input(shape=(janela_tempo, 1), name=\"input_radiacao\")\n",
        "    if with_bilstm:\n",
        "        x_lstm = Bidirectional(LSTM(64, return_sequences=True))(input_rad)\n",
        "        x_lstm = Bidirectional(LSTM(32))(x_lstm)\n",
        "    else:\n",
        "        x_lstm = LSTM(64, return_sequences=True, name=\"lstm_layer_1\")(input_rad)\n",
        "        x_lstm = LSTM(32, name=\"lstm_layer_2\")(x_lstm)\n",
        "\n",
        "    x_lstm = Dense(32, activation='relu')(x_lstm)\n",
        "\n",
        "    if with_compiled:\n",
        "        x_lstm = Dense(1, name=\"saida\", activation='linear')(x_lstm)\n",
        "        # output = BatchNormalization()(x_lstm)\n",
        "        output = x_lstm\n",
        "\n",
        "        model = Model(inputs=[input_rad], outputs=output)\n",
        "        model.compile(optimizer='adam', loss='mse')\n",
        "\n",
        "    else:\n",
        "        # model = BatchNormalization()(x_lstm)\n",
        "        model = x_lstm\n",
        "\n",
        "    return model, input_rad\n",
        "\n",
        "\n",
        "def create_lstm_model_old(janela_tempo, input_name, with_bilstm):\n",
        "\n",
        "    model = Sequential()\n",
        "    _input = InputLayer(input_shape=(janela_tempo, 1), name=input_name)\n",
        "    model.add(_input)\n",
        "\n",
        "    if with_bilstm:\n",
        "        model.add(Bidirectional(LSTM(64, return_sequences=True)))\n",
        "        model.add(Bidirectional(LSTM(32)))\n",
        "    else:\n",
        "        model.add(LSTM(64, return_sequences=True))\n",
        "        model.add(LSTM(32))\n",
        "\n",
        "    model.add(Dense(32, activation='relu'))\n",
        "    model.add(Dense(1, activation='linear'))\n",
        "\n",
        "    model.compile(optimizer='adam', loss='mse')\n",
        "\n",
        "    return model, _input\n",
        "\n",
        "def train_model(model, X, y, epochs=100):\n",
        "    model.fit(X, y, epochs=epochs, batch_size=32, verbose=0)\n",
        "\n",
        "    return model\n",
        "\n",
        "def process_lstm(times, station, train_df, test_df, results, with_compiled, with_bilstm, with_plot, using_standard_scaler=False):\n",
        "    nn_type = \"BiLSTM\" if with_bilstm else \"LSTM\"\n",
        "    train_input, train_output = data_to_input_and_output_lstm(train_df, using_standard_scaler)\n",
        "    test_input, test_output = data_to_input_and_output_lstm(test_df, using_standard_scaler)\n",
        "\n",
        "    for i in range(times):\n",
        "        print(\"Starting process \" + str(i) + \" for station \" + station + \" with \" + nn_type + \" type\")\n",
        "        results[station][i] = {\"train_pred\":None, \"test_pred\": None, \"period\": None, \"metrics\":None}\n",
        "\n",
        "        model, _ = create_lstm_model(janela_tempo, \"input_radiacao\", with_compiled, with_bilstm)\n",
        "        train_model(model, train_input, train_output)\n",
        "\n",
        "        train_pred = model.predict(train_input, verbose=0)\n",
        "        test_pred = model.predict(test_input, verbose=0)\n",
        "\n",
        "        if with_plot:\n",
        "            period = anual_df[train_pred.shape[0]:]['data'].iloc[:test_pred.shape[0]]\n",
        "            plot_results(test_pred.reshape(test_pred.shape[0]), test_output, period)\n",
        "\n",
        "        results[station][i][\"train_pred\"] = train_pred\n",
        "        results[station][i][\"test_pred\"] = test_pred\n",
        "        results[station][i][\"metrics\"] = get_metrics(test_pred, test_output)"
      ],
      "metadata": {
        "id": "eiwY-mr_qCom"
      },
      "execution_count": null,
      "outputs": []
    }
  ]
}